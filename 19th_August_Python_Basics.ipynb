{
  "nbformat": 4,
  "nbformat_minor": 0,
  "metadata": {
    "colab": {
      "provenance": []
    },
    "kernelspec": {
      "name": "python3",
      "display_name": "Python 3"
    },
    "language_info": {
      "name": "python"
    }
  },
  "cells": [
    {
      "cell_type": "markdown",
      "source": [
        "TOPIC: **Python** **Basics** **Variable**"
      ],
      "metadata": {
        "id": "s2L7loQNqDd3"
      }
    },
    {
      "cell_type": "markdown",
      "source": [
        "1. Declare two variables, `x` and `y`, and assign them integer values. Swap the\n",
        "values of these variables without using any temporary variable."
      ],
      "metadata": {
        "id": "KQ3WYO8CqACE"
      }
    },
    {
      "cell_type": "code",
      "source": [
        "x=10 #declared x and y with integer values\n",
        "y=20\n",
        "temp = x #created a temp variable and done swapping of variables\n",
        "x = y\n",
        "y = temp\n",
        "print(x)\n",
        "print(y)"
      ],
      "metadata": {
        "colab": {
          "base_uri": "https://localhost:8080/"
        },
        "id": "TvGXmhrTqGtt",
        "outputId": "4c44f7a8-3e3e-402e-9983-70349262d41e"
      },
      "execution_count": null,
      "outputs": [
        {
          "output_type": "stream",
          "name": "stdout",
          "text": [
            "20\n",
            "10\n"
          ]
        }
      ]
    },
    {
      "cell_type": "markdown",
      "source": [
        "Declared 2 variables for ineger values x=10 and y=20\n",
        "created a temperary variable temp for interchanging x and y values\n",
        "Used Swapping method for interchanging xa and y values 'and finally swapped the values of x as 20 and y as 10."
      ],
      "metadata": {
        "id": "TMSHApjYqbv8"
      }
    },
    {
      "cell_type": "markdown",
      "source": [
        "2. Create a program that calculates the area of a rectangle. Take the length and\n",
        "width as inputs from the user and store them in variables. Calculate and\n",
        "display the area."
      ],
      "metadata": {
        "id": "qXqz-mccp9xh"
      }
    },
    {
      "cell_type": "code",
      "source": [
        "len = float(input(\"Enter the length of the rectangle: \")) # here took user input for length and used a float as datatype\n",
        "wdth = float(input(\"Enter the width of the rectangle: \"))   # here took user input for width and used a float as datatype\n",
        "\n",
        "#  Calculate the area of the rectangle\n",
        "area = len * wdth # formula to perform area of rectangle area=l*w\n",
        "\n",
        "#  Display the calculated area\n",
        "print(\"The area of the rectangle is:\", area) # Printing the calculated area"
      ],
      "metadata": {
        "colab": {
          "base_uri": "https://localhost:8080/"
        },
        "id": "toOh8Yd2qh_A",
        "outputId": "f9ac984d-9a5f-4887-bec7-3592fe4ffeb1"
      },
      "execution_count": null,
      "outputs": [
        {
          "output_type": "stream",
          "name": "stdout",
          "text": [
            "Enter the length of the rectangle: 5\n",
            "Enter the width of the rectangle: 4\n",
            "The area of the rectangle is: 20.0\n"
          ]
        }
      ]
    },
    {
      "cell_type": "markdown",
      "source": [
        "We start by using the input() function to receive input from the user for the length and width of the rectangle.\n",
        "  we used float() to convert the input to float numbers since length and width can have decimal values.\n",
        "\n",
        "The area of a rectangle is calculated by multiplying its length and width. So, we calculate the area using the formula area = length * width.ie.,a=l*w\n",
        "\n",
        "Finally, we display the calculated area to the user using the print() function. We concatenate the string \"The area of the rectangle is:\" with the calculated area variable to present the result to the user."
      ],
      "metadata": {
        "id": "fTD-ppvZqirQ"
      }
    },
    {
      "cell_type": "markdown",
      "source": [
        "3. Write a Python program that converts temperatures from Celsius to\n",
        "Fahrenheit. Take the temperature in Celsius as input, store it in a variable,\n",
        "convert it to Fahrenheit, and display the result"
      ],
      "metadata": {
        "id": "O8oWUkvnqw4E"
      }
    },
    {
      "cell_type": "code",
      "source": [
        "#  Get the inut for  temperature in Celsius\n",
        "cel_temp = float(input(\"Enter temperature in Celsius: \"))\n",
        "\n",
        "#  Convert Celsius to Fahrenheit using the formula: (C * 9/5) + 32\n",
        "fahre_temp = (cel_temp * 9/5) + 32\n",
        "\n",
        "#  Display the converted temp to Fahrenheit\n",
        "print(f\"{cel_temp} Celsius is equal to {fahre_temp:.2f} Fahrenheit\")"
      ],
      "metadata": {
        "colab": {
          "base_uri": "https://localhost:8080/"
        },
        "id": "260_k4EPqxfg",
        "outputId": "8a66086c-155e-4af7-8a22-f63f1012b511"
      },
      "execution_count": null,
      "outputs": [
        {
          "output_type": "stream",
          "name": "stdout",
          "text": [
            "Enter temperature in Celsius: 5\n",
            "5.0 Celsius is equal to 41.00 Fahrenheit\n"
          ]
        }
      ]
    },
    {
      "cell_type": "markdown",
      "source": [
        "Get the inut for  temperature in Celsius cel_temp,then performed to convert cel to Fahrenheit by using formula  (C * 9/5) + 32 and displayed the  output."
      ],
      "metadata": {
        "id": "z2e7uxfuqxvd"
      }
    },
    {
      "cell_type": "markdown",
      "source": [
        "**TOPIC**: **String** **Based**  **Questions**"
      ],
      "metadata": {
        "id": "zoteJydXqyFx"
      }
    },
    {
      "cell_type": "markdown",
      "source": [
        "1. Write a Python program that takes a string as input and prints the length of the string"
      ],
      "metadata": {
        "id": "b82GorjOrDO8"
      }
    },
    {
      "cell_type": "code",
      "source": [
        "s=input('enter:') #Take input from user\n",
        "s1=len(s) # use the len() fun to calculate the length od the given string.\n",
        "s1 #print the output"
      ],
      "metadata": {
        "colab": {
          "base_uri": "https://localhost:8080/"
        },
        "id": "3jncO26gwz7Y",
        "outputId": "af0baf3b-7d52-4d11-bf26-52f315dd075b"
      },
      "execution_count": 1,
      "outputs": [
        {
          "name": "stdout",
          "output_type": "stream",
          "text": [
            "enter:sak\n"
          ]
        },
        {
          "output_type": "execute_result",
          "data": {
            "text/plain": [
              "3"
            ]
          },
          "metadata": {},
          "execution_count": 1
        }
      ]
    },
    {
      "cell_type": "markdown",
      "source": [
        "s= input(\"enter: \") : it ask user to enter a string and reads the input . The entered string is stored in the variable . s1= len(s) : This line calculates the length of the s using the built-in len() function. The length value is stored in the variable string_length. s1 : This line prints h the length of the input string."
      ],
      "metadata": {
        "id": "MXHUdciVozaA"
      }
    },
    {
      "cell_type": "markdown",
      "source": [
        "2. Create a program that takes a sentence from the user and counts the number\n",
        "of vowels (a, e, i, o, u) in the string."
      ],
      "metadata": {
        "id": "Z-p4lMQIrJFf"
      }
    },
    {
      "cell_type": "code",
      "source": [
        "#  take input from the user\n",
        "sen = input(\"Enter a sentence: \")\n",
        "\n",
        "#  Initialize a variable to count the vowels\n",
        "vowel_count = 0\n",
        "\n",
        "# : Iterate through each character in the sentence\n",
        "for char in sen:\n",
        "    #  Convert the character to lowercase to handle both uppercase and lowercase vowels\n",
        "    char_lower = char.lower()\n",
        "\n",
        "    #  Check if the character is a vowel (a, e, i, o, u)\n",
        "    if char_lower in \"aeiou\":\n",
        "        #  If the character is a vowel, increment the vowel_count variable\n",
        "        vowel_count += 1\n",
        "\n",
        "#  Display the result\n",
        "print(\"Number of vowels:\", vowel_count)"
      ],
      "metadata": {
        "colab": {
          "base_uri": "https://localhost:8080/"
        },
        "id": "P0tAhaqdnsYP",
        "outputId": "f03b827c-59d6-4f6d-cc49-17978ac4881f"
      },
      "execution_count": null,
      "outputs": [
        {
          "output_type": "stream",
          "name": "stdout",
          "text": [
            "Enter a sentence: sakshiiiii\n",
            "Number of vowels: 6\n"
          ]
        }
      ]
    },
    {
      "cell_type": "markdown",
      "source": [
        "We start by using the input() function to get a sentence from the user and store it in the variable sentence.\n",
        "\n",
        "We took a variable called vowel_count to keep count of the number of vowels in the sentence.\n",
        "\n",
        "We use a for loop so that we can be able to iterate through each character in the sentence.\n",
        "\n",
        "To ensure we took both upper and lowercase vowels, we converted the character to lowercase using the .lower()\n",
        "We check if the lowercase character (char_lower) is one of the vowels by using the in operator and the string \"aeiou\".\n",
        "\n",
        "If the character is a vowel, we increment the vowel_count variable by 1.\n",
        "\n",
        "After iterating through all characters in the sentence, we print out the final count of vowels using the print() function."
      ],
      "metadata": {
        "id": "Eev8HuvDroJL"
      }
    },
    {
      "cell_type": "markdown",
      "source": [
        "3. Given a string, reverse the order of characters using string slicing and print\n",
        "the reversed string."
      ],
      "metadata": {
        "id": "8lyDaw3lroYQ"
      }
    },
    {
      "cell_type": "code",
      "source": [
        "s=str(input('Enter'))\n",
        "rev_string = s[::-1]\n",
        "rev_string\n",
        "\n"
      ],
      "metadata": {
        "colab": {
          "base_uri": "https://localhost:8080/",
          "height": 53
        },
        "id": "hP5-1C21u4j4",
        "outputId": "ce6b1314-97a3-4ed0-bf3d-dd1f367f3252"
      },
      "execution_count": null,
      "outputs": [
        {
          "name": "stdout",
          "output_type": "stream",
          "text": [
            "Entersakshi\n"
          ]
        },
        {
          "output_type": "execute_result",
          "data": {
            "text/plain": [
              "'ihskas'"
            ],
            "application/vnd.google.colaboratory.intrinsic+json": {
              "type": "string"
            }
          },
          "metadata": {},
          "execution_count": 5
        }
      ]
    },
    {
      "cell_type": "markdown",
      "source": [
        "We use the input() function to get a string input from the user and store it in the variable s\n",
        "\n",
        "To reverse the string using string slicing, we use the slicing syntax [start:end:step].\n",
        "\n",
        " the we get the final ouput"
      ],
      "metadata": {
        "id": "6lD0DSJysQJy"
      }
    },
    {
      "cell_type": "markdown",
      "source": [
        "4. Write a program that takes a string as input and checks if it is a palindrome (reads the same forwards and backwards)."
      ],
      "metadata": {
        "id": "YFAYpeE8sQUd"
      }
    },
    {
      "cell_type": "code",
      "source": [
        "#  Get  user input\n",
        "input = input(\"Enter a string: \")\n",
        "\n",
        "#  Remove spaces and convert the input string to lowercase\n",
        "cleaned_string = input.replace(\" \", \"\").lower()\n",
        "\n",
        "#  Reverse the cleaned string using slicing\n",
        "reversed_string = cleaned_string[::-1]\n",
        "\n",
        "#  Compare the cleaned string with its reverse to check for palindrome\n",
        "if cleaned_string == reversed_string:\n",
        "    print(\"The input string is a palindrome.\")\n",
        "else:\n",
        "    print(\"The input string is not a palindrome.\")"
      ],
      "metadata": {
        "colab": {
          "base_uri": "https://localhost:8080/"
        },
        "id": "IfFv5lsxsQok",
        "outputId": "44eae12f-6e23-4a10-e96f-5673aa785e4e"
      },
      "execution_count": null,
      "outputs": [
        {
          "output_type": "stream",
          "name": "stdout",
          "text": [
            "Enter a string: yay\n",
            "The input string is a palindrome.\n"
          ]
        }
      ]
    },
    {
      "cell_type": "markdown",
      "source": [
        "We start by taking  input using the input() function and store it in the variable input.then we remove spaces from the inputed string using the replace() method and convert it to lowercase using the lower() method. so that it helps to ensure that the comparison doesn't consider spaces.\n",
        "We create the reversed_string by slicing the cleaned_string with a step of -1, which effectively reverses the string.\n",
        "We compare the cleaned_string with its reversed version (reversed_string) using an if statement. If they are equal, we print that the input string is a palindrome; otherwise, it's not a palindrome."
      ],
      "metadata": {
        "id": "3Rp4ZYFSsZwO"
      }
    },
    {
      "cell_type": "markdown",
      "source": [
        "5. Create a program that takes a string as input and removes all the spaces from it. Print the modified string without spaces."
      ],
      "metadata": {
        "id": "Uc9egkvpsaDv"
      }
    },
    {
      "cell_type": "code",
      "source": [
        "#  Take user INPUT\n",
        "input_string = input(\"Enter a string: \")\n",
        "\n",
        "#  Take  an empty string to store the modified string without spaces\n",
        "modified_string = \"\"\n",
        "\n",
        "#  Iterate through each character in the input string\n",
        "for char in input_string:\n",
        "    #  Check if the character is not a space\n",
        "    if char != \" \":\n",
        "        #  If not a space, append the character to the modified string\n",
        "        modified_string += char\n",
        "\n",
        "#  Print the OUTPUT\n",
        "print(\"Modified string without spaces:\", modified_string)"
      ],
      "metadata": {
        "colab": {
          "base_uri": "https://localhost:8080/"
        },
        "id": "4ztJyEmwsfur",
        "outputId": "bb8aa8cc-128a-4b81-8022-6694a520badf"
      },
      "execution_count": 2,
      "outputs": [
        {
          "output_type": "stream",
          "name": "stdout",
          "text": [
            "Enter a string: ashjhfiuf dsniudsnjsn\n",
            "Modified string without spaces: ashjhfiufdsniudsnjsn\n"
          ]
        }
      ]
    },
    {
      "cell_type": "markdown",
      "source": [
        " Take user input : input() function and store it in the variable input_string.then,we take an empty string modified_string to store the final string without spaces.\n",
        "We use a for loop to iterate through each character in the input_string.\n",
        "If the character is not a space, we append it to the modified_string using the += operator.\n",
        "Finally, after the loop completes, we print the modified string without spaces as output.\n"
      ],
      "metadata": {
        "id": "maozavn4sno1"
      }
    },
    {
      "cell_type": "code",
      "source": [],
      "metadata": {
        "id": "Uh5LN9pqsh_f"
      },
      "execution_count": null,
      "outputs": []
    }
  ]
}